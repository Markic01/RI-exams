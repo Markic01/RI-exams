{
 "cells": [
  {
   "cell_type": "code",
   "execution_count": 1,
   "metadata": {},
   "outputs": [],
   "source": [
    "import numpy as np\n",
    "import random\n",
    "import copy"
   ]
  },
  {
   "cell_type": "markdown",
   "metadata": {},
   "source": [
    "Data je matrica rastojanja između gradova $D$."
   ]
  },
  {
   "cell_type": "code",
   "execution_count": 2,
   "metadata": {},
   "outputs": [],
   "source": [
    "D = [[0,4,1,3],\n",
    "     [4,0,2,1],\n",
    "     [1,2,0,5],\n",
    "     [3,1,5,0]\n",
    "    ]"
   ]
  },
  {
   "cell_type": "markdown",
   "metadata": {},
   "source": [
    "Problem trgovačkog putnika: za dati skup gradova i rastojanja između njih, potrebno je odrediti najkraću rutu koja svaki grad posećuje tačno jednom, pri čemu je prvi grad ujedno i poslednji grad na putu."
   ]
  },
  {
   "cell_type": "markdown",
   "metadata": {},
   "source": [
    "Napisati funkciju $initialize$ koja za dati broj gradova $n$ konstruiše početno rešenje (proizvoljnu rutu) za trgovačkog putnika."
   ]
  },
  {
   "cell_type": "code",
   "execution_count": 3,
   "metadata": {},
   "outputs": [],
   "source": [
    "def initialize(n):\n",
    "# POCETAK STUDENTSKOG KODA\n",
    "    x = np.random.permutation(range(0,n))\n",
    "    return x\n",
    "# KRAJ STUDENTSKOG KODA"
   ]
  },
  {
   "cell_type": "markdown",
   "metadata": {},
   "source": [
    "Napisati funkciju $calcSolutionValue$ koja za dato rešenje $solution$ i matricu rastojanja $D$ računa vrednost tog rešenja."
   ]
  },
  {
   "cell_type": "code",
   "execution_count": 4,
   "metadata": {},
   "outputs": [],
   "source": [
    "def calcSolutionValue(solution, D):\n",
    "# POCETAK STUDENTSKOG KODA\n",
    "    price = 0\n",
    "    for i in range(len(solution)-1):\n",
    "        price = price + D[solution[i]][solution[i+1]]\n",
    "    return price + D[solution[-1]][solution[0]]\n",
    "# KRAJ STUDENTSKOG KODA"
   ]
  },
  {
   "cell_type": "markdown",
   "metadata": {},
   "source": [
    "Napisati funkciju $createNewSolution$ koja malom izmenom datog trenutnog rešenja $solution$ konstruiše novo rešenje."
   ]
  },
  {
   "cell_type": "code",
   "execution_count": 5,
   "metadata": {},
   "outputs": [],
   "source": [
    "def createNewSolution(solution):\n",
    "# POCETAK STUDENTSKOG KODA\n",
    "    y = copy.deepcopy(solution)\n",
    "    x = random.sample(range(len(solution)),2)\n",
    "    tmp = y[x[0]]\n",
    "    y[x[0]] = y[x[1]]\n",
    "    y[x[1]] = tmp\n",
    "    return y\n",
    "# KRAJ STUDENTSKOG KODA "
   ]
  },
  {
   "cell_type": "markdown",
   "metadata": {},
   "source": [
    "Konačno, napisati funkciju $simulatedAnnealing$ koja za datu matricu rastojanja $D$ rešava problem trgovačkog putnika primenom simuliranog kaljenja.\n",
    "Uslov zaustavljanja je broj iteracija $iters$.\n",
    "\n",
    "Za funkciju $p$ koristiti $\\frac{1}{\\sqrt{i}}$, gde je $i$ broj trenutne iteracije.\n",
    "\n",
    "Iz funkcije vratiti vrednost najboljeg rešenja i najbolju rutu."
   ]
  },
  {
   "cell_type": "code",
   "execution_count": 6,
   "metadata": {},
   "outputs": [],
   "source": [
    "def simulatedAnnealing(D, iters):\n",
    "# POCETAK STUDENTSKOG KODA\n",
    "    sol = initialize(len(D))\n",
    "    val = calcSolutionValue(sol,D)\n",
    "    bestSol = copy.deepcopy(sol)\n",
    "    bestVal = calcSolutionValue(sol,D)\n",
    "    for i in range(1,iters+1):\n",
    "        newSol = createNewSolution(sol)\n",
    "        newVal = calcSolutionValue(newSol,D)\n",
    "        if newVal < val:\n",
    "            sol = newSol\n",
    "            val = newVal\n",
    "            if newVal < bestVal:\n",
    "                bestSol = newSol\n",
    "                bestVal = newVal\n",
    "        else:\n",
    "            p = random.uniform(0,1)\n",
    "            if 1 / i** 0.5 > p:\n",
    "#                 print('uzeo losije')\n",
    "                sol = newSol\n",
    "                val = newVal\n",
    "#         print(sol,val)\n",
    "    print(bestSol)\n",
    "    return bestVal\n",
    "        \n",
    "# KRAJ STUDENTSKOG KODA"
   ]
  },
  {
   "cell_type": "markdown",
   "metadata": {},
   "source": [
    "1. test primer (matrica rastojanja $D$)\n",
    "\n",
    "Optimalna vrednost: 7\n",
    "\n",
    "Optimalna ruta: 0 -> 2 -> 1 -> 3"
   ]
  },
  {
   "cell_type": "code",
   "execution_count": 11,
   "metadata": {},
   "outputs": [
    {
     "name": "stdout",
     "output_type": "stream",
     "text": [
      "[1 3 0 2]\n"
     ]
    },
    {
     "data": {
      "text/plain": [
       "7"
      ]
     },
     "execution_count": 11,
     "metadata": {},
     "output_type": "execute_result"
    }
   ],
   "source": [
    "simulatedAnnealing(D, 10)"
   ]
  },
  {
   "cell_type": "code",
   "execution_count": 8,
   "metadata": {},
   "outputs": [],
   "source": [
    "def readFile(filename):\n",
    "    with open(filename, 'r') as f:\n",
    "        numCities = [int(x) for x in f.readline().split()][0]\n",
    "        D = [[int(x) for x in f.readline().split()] for i in range(numCities)]\n",
    "        return D"
   ]
  },
  {
   "cell_type": "code",
   "execution_count": 9,
   "metadata": {},
   "outputs": [],
   "source": [
    "D_2 = readFile('tsp_input.txt')"
   ]
  },
  {
   "cell_type": "markdown",
   "metadata": {},
   "source": [
    "2. test primer (matrica rastojanja $D_2$)\n",
    "\n",
    "Optimalna vrednost: 27603"
   ]
  },
  {
   "cell_type": "code",
   "execution_count": 37,
   "metadata": {},
   "outputs": [
    {
     "name": "stdout",
     "output_type": "stream",
     "text": [
      "[14 10  9  5  1  0  4  7  3  2  6  8 11 12 13 16 19 15 23 26 24 25 27 28\n",
      " 20 22 21 17 18]\n"
     ]
    },
    {
     "data": {
      "text/plain": [
       "28840"
      ]
     },
     "execution_count": 37,
     "metadata": {},
     "output_type": "execute_result"
    }
   ],
   "source": [
    "simulatedAnnealing(D_2, 100000)"
   ]
  }
 ],
 "metadata": {
  "kernelspec": {
   "display_name": "Python 3 (ipykernel)",
   "language": "python",
   "name": "python3"
  },
  "language_info": {
   "codemirror_mode": {
    "name": "ipython",
    "version": 3
   },
   "file_extension": ".py",
   "mimetype": "text/x-python",
   "name": "python",
   "nbconvert_exporter": "python",
   "pygments_lexer": "ipython3",
   "version": "3.11.5"
  }
 },
 "nbformat": 4,
 "nbformat_minor": 4
}

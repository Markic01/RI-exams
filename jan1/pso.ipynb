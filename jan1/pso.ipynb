{
 "cells": [
  {
   "cell_type": "code",
   "execution_count": 37,
   "metadata": {},
   "outputs": [],
   "source": [
    "import numpy as np\n",
    "import random\n",
    "import matplotlib.pyplot as plt"
   ]
  },
  {
   "cell_type": "code",
   "execution_count": 38,
   "metadata": {},
   "outputs": [],
   "source": [
    "def ackley(x):\n",
    "    d = len(x)\n",
    "    a = 20\n",
    "    b = 0.2\n",
    "    c = 2 * np.pi\n",
    "    first_sum = np.sum(np.square(x))\n",
    "    second_sum = np.sum(np.cos(np.multiply(c, x)))\n",
    "    return -a*np.exp(-b*np.sqrt(first_sum / d)) - np.exp(second_sum / d) + a + np.exp(1)"
   ]
  },
  {
   "cell_type": "code",
   "execution_count": 39,
   "metadata": {},
   "outputs": [],
   "source": [
    "n = 5\n",
    "bounds = [(-32, 32) for _ in range(n)]"
   ]
  },
  {
   "cell_type": "markdown",
   "metadata": {},
   "source": [
    "Koristeći optimizaciju rojem čestica (PSO) minimizovati Aklijevu funkciju na datom opsegu.\n",
    "\n",
    "Napraviti klasu $Particle$ koja predstavlja jednu česticu i ima metode $updatePosition$ i $updateVelocity$ koji ažuriraju poziciju i brzinu čestice.\n",
    "\n",
    "Za parametre $w$, $c1$ i $c2$ uzeti redom vrednosti $0.75$, $1$ i $2$."
   ]
  },
  {
   "cell_type": "code",
   "execution_count": 40,
   "metadata": {},
   "outputs": [],
   "source": [
    "class Particle:\n",
    "    globalBestPosition = None\n",
    "    globalBestValue = None\n",
    "\n",
    "\n",
    "    def __init__(self, objective, bounds, w, c1, c2):\n",
    "#         POCETAK STUDENTSKOG KODA\n",
    "        self.position = [random.uniform(i[0],i[1]) for i in bounds]\n",
    "        self.velocity = [random.uniform(-1,1) for _ in bounds]\n",
    "#         KRAJ STUDENTSKOG KODA\n",
    "        self.bestPosition = list(self.position)\n",
    "        self.currentValue = objective(self.position)\n",
    "        self.bestValue = objective(self.bestPosition)\n",
    "\n",
    "        if Particle.globalBestValue is None or Particle.globalBestValue > self.bestValue:\n",
    "            Particle.globalBestPosition= list(self.bestPosition)\n",
    "            Particle.globalBestValue = self.bestValue\n",
    "        \n",
    "        self.objective = objective\n",
    "        self.bounds = bounds\n",
    "        self.w = w\n",
    "        self.c1 = c1\n",
    "        self.c2 = c2\n",
    "        \n",
    "    def updatePosition(self):\n",
    "#         POCETAK STUDENTSKOG KODA\n",
    "        for i in range(len(self.velocity)):\n",
    "            self.position[i] += self.velocity[i]\n",
    "            if self.position[i] > self.bounds[i][1]:\n",
    "                self.position[i] = self.bounds[i][1]\n",
    "            if self.position[i] < self.bounds[i][0]:\n",
    "                self.position[i] = self.bounds[i][0]\n",
    "\n",
    "        if self.objective(self.position) < self.bestValue:\n",
    "            self.bestPosition = list(self.position)\n",
    "            self.bestValue = self.objective(self.position)\n",
    "            if self.objective(self.position) < Particle.globalBestValue:\n",
    "                Particle.globalBestPosition = list(self.position)\n",
    "                Particle.globalBestValue = self.objective(self.position)\n",
    "\n",
    "            \n",
    "            \n",
    "#         KRAJ STUDENTSKOG KODA\n",
    "    \n",
    "    def updateVelocity(self):\n",
    "#         POCETAK STUDENTSKOG KODA\n",
    "        # globalV = Particle.globalBestPosition - self.position\n",
    "        globalV = list([Particle.globalBestPosition[i] - self.position[i] for i in range(len(self.position))])\n",
    "        # localV = self.bestPosition - self.position\n",
    "        localV = list([self.bestPosition[i] - self.position[i] for i in range(len(self.position))])\n",
    "\n",
    "        for i in range(len(self.velocity)):\n",
    "            rG = random.random()\n",
    "            rL = random.random()\n",
    "            self.velocity[i] = self.velocity[i] * self.w + rL * self.c1 * localV[i] + rG * self.c2 * globalV[i]\n",
    "\n",
    "#         KRAJ STUDENTSKOG KODA"
   ]
  },
  {
   "cell_type": "markdown",
   "metadata": {},
   "source": [
    "Napisati funkciju $pso$ koja pravi roj od $numParticles$ čestica i vrši optimizaciju.\n",
    "\n",
    "Uslov zaustavljanja je broj iteracija $iters$.\n",
    "\n",
    "Nacrtati grafik promene vrednosti najboljeg rešenja kroz iteracije.\n",
    "\n",
    "Iz funkcije vratiti poziciju i vrednost najboljeg rešenja."
   ]
  },
  {
   "cell_type": "code",
   "execution_count": 41,
   "metadata": {},
   "outputs": [],
   "source": [
    "def pso(numParticles, iters):\n",
    "#     POCETAK STUDENTSKOG KODA\n",
    "    particles = [Particle(ackley,bounds,w=0.75,c1=1,c2=1) for _ in range(numParticles)]\n",
    "\n",
    "    for _ in range(iters):\n",
    "        for j in range(len(particles)):\n",
    "            particles[j].updateVelocity()\n",
    "            particles[j].updatePosition()\n",
    "\n",
    "\n",
    "    print(Particle.globalBestValue)\n",
    "    print(Particle.globalBestPosition)\n",
    "#     KRAJ STUDENTSKOG KODA"
   ]
  },
  {
   "cell_type": "markdown",
   "metadata": {},
   "source": [
    "Minimum ove funkcije je nula i dostiže se u nuli."
   ]
  },
  {
   "cell_type": "code",
   "execution_count": 42,
   "metadata": {},
   "outputs": [
    {
     "name": "stdout",
     "output_type": "stream",
     "text": [
      "2.886579864025407e-14\n",
      "[-9.218520620139965e-15, -6.937866985126607e-15, 9.243948313886817e-16, 7.254880980105725e-15, -6.258151652678176e-15]\n"
     ]
    }
   ],
   "source": [
    "pso(25, 300)"
   ]
  }
 ],
 "metadata": {
  "kernelspec": {
   "display_name": "Python 3",
   "language": "python",
   "name": "python3"
  },
  "language_info": {
   "codemirror_mode": {
    "name": "ipython",
    "version": 3
   },
   "file_extension": ".py",
   "mimetype": "text/x-python",
   "name": "python",
   "nbconvert_exporter": "python",
   "pygments_lexer": "ipython3",
   "version": "3.10.12"
  }
 },
 "nbformat": 4,
 "nbformat_minor": 4
}

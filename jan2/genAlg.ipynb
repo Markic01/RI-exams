{
 "cells": [
  {
   "cell_type": "markdown",
   "metadata": {},
   "source": [
    "### Zadatak 1.\n",
    "\n",
    "Implementirati genetski algoritam za resavanje problema \"Zbir podskupa\".\n",
    "\n",
    "Definicija problema: Za zadati niz brojeva i jedan ciljni broj, odrediti da li postoji neprazan podskup datog niza cija suma je ciljni broj.\n",
    "\n",
    "Primer: \n",
    "    \n",
    "    niz: [6, 2, -4, 23, 56, 8, 3]\n",
    "    \n",
    "    ciljni broj: 34\n",
    "    \n",
    "    resenje: [23, 8, 3]"
   ]
  },
  {
   "cell_type": "code",
   "execution_count": 1,
   "metadata": {},
   "outputs": [],
   "source": [
    "import random"
   ]
  },
  {
   "cell_type": "code",
   "execution_count": 2,
   "metadata": {},
   "outputs": [],
   "source": [
    "array = [6, 2, -4, 23, 56, 8, 3]\n",
    "target = 34"
   ]
  },
  {
   "cell_type": "code",
   "execution_count": 121,
   "metadata": {},
   "outputs": [],
   "source": [
    "class Individual():\n",
    "    \n",
    "    def __init__(self, array, target):\n",
    "        self.array = array.copy()\n",
    "        self.target = target\n",
    "        self.code = self.initialize(len(array))\n",
    "        self.fitness = self.calculateFitness()\n",
    "    \n",
    "    def initialize(self, n):\n",
    "        x = [random.random() < 0.5 for _ in range(n)]\n",
    "        if not any(x):\n",
    "            x[random.randrange(len(x))] = True\n",
    "        return x\n",
    "                \n",
    "    # Sort ce pozvati ovaj metod za poredjenje, ukoliko koristite sort :)\n",
    "    def __lt__(self, other):\n",
    "        return self.fitness < other.fitness\n",
    "        \n",
    "    def invert(self):\n",
    "        ind = random.randrange(len(self.code))\n",
    "        self.code[ind] = not self.code[ind]\n",
    "        if not any(self.code):\n",
    "            self.code[random.randrange(len(self.code))] = True\n",
    "        \n",
    "    def calculateFitness(self):\n",
    "        s = 0\n",
    "        for i in range(len(self.code)):\n",
    "            if self.code[i] == True:\n",
    "                s = s+ self.array[i]\n",
    "        dif = abs(s - self.target)\n",
    "        if dif == 0:\n",
    "#             print(self.code)\n",
    "            return 100\n",
    "        return 1 / dif"
   ]
  },
  {
   "cell_type": "markdown",
   "metadata": {},
   "source": [
    "Implementirati turnirsku selekciju"
   ]
  },
  {
   "cell_type": "code",
   "execution_count": 7,
   "metadata": {},
   "outputs": [],
   "source": [
    "def selection(population, size):\n",
    "    tournament = random.sample(population,size)\n",
    "    return max(tournament)"
   ]
  },
  {
   "cell_type": "markdown",
   "metadata": {},
   "source": [
    "Implementirati jednopoziciono ukrstanje"
   ]
  },
  {
   "cell_type": "code",
   "execution_count": 111,
   "metadata": {},
   "outputs": [],
   "source": [
    "def crossover(parent1, parent2, child1, child2):\n",
    "    x = random.randrange(len(parent1.code))\n",
    "#     print(child1.code)\n",
    "    \n",
    "    child1.code[:x] = parent1.code[:x]\n",
    "    child1.code[x:] = parent2.code[x:]\n",
    "    if not any(child1.code):\n",
    "        child1.code[random.randrange(len(child1.code))] = True\n",
    "    \n",
    "    child2.code[:x] = parent2.code[:x]\n",
    "    child2.code[x:] = parent1.code[x:]\n",
    "    \n",
    "    \n",
    "    if not any(child2.code):\n",
    "        child2.code[random.randrange(len(child2.code))] = True"
   ]
  },
  {
   "cell_type": "code",
   "execution_count": 10,
   "metadata": {},
   "outputs": [],
   "source": [
    "def mutation(individual, probability):\n",
    "    for i in range(len(individual.code)):\n",
    "        if random.random() < probability:\n",
    "            individual.code[i] = not individual.code[i]"
   ]
  },
  {
   "cell_type": "markdown",
   "metadata": {},
   "source": [
    "Implementirati elitizam velicine 30% populacije"
   ]
  },
  {
   "cell_type": "code",
   "execution_count": 146,
   "metadata": {},
   "outputs": [
    {
     "name": "stdout",
     "output_type": "stream",
     "text": [
      "[True, True, False, True, False, False, True] 100\n"
     ]
    }
   ],
   "source": [
    "POPULATION_SIZE = 100\n",
    "SELECTION_SIZE = 6\n",
    "MUTATION_PROB = 0.05\n",
    "population = [Individual(array,target) for _ in range(POPULATION_SIZE)]\n",
    "newPopulation = [Individual(array,target) for _ in range(POPULATION_SIZE)]\n",
    "\n",
    "ELITISM_SIZE = POPULATION_SIZE * 3 // 10 \n",
    "MAX_ITER = 500\n",
    "\n",
    "# \n",
    "# Implementacija glavne logike\n",
    "#\n",
    "\n",
    "for i in range(1):\n",
    "    population.sort(reverse=True)\n",
    "    newPopulation[:ELITISM_SIZE] = population[:ELITISM_SIZE]\n",
    "    \n",
    "    for j in range(ELITISM_SIZE,len(newPopulation),2):\n",
    "        parent1 = selection(population,SELECTION_SIZE)\n",
    "        parent2 = selection(population,SELECTION_SIZE)\n",
    "        \n",
    "        crossover(parent1,parent2,population[j],population[j+1])\n",
    "        \n",
    "        mutation(population[j],MUTATION_PROB)\n",
    "        mutation(population[j+1],MUTATION_PROB)\n",
    "    \n",
    "    population = newPopulation\n",
    "        \n",
    "    \n",
    "bestIndividual = max(population)\n",
    "print(bestIndividual.code,bestIndividual.fitness)"
   ]
  }
 ],
 "metadata": {
  "kernelspec": {
   "display_name": "Python 3 (ipykernel)",
   "language": "python",
   "name": "python3"
  },
  "language_info": {
   "codemirror_mode": {
    "name": "ipython",
    "version": 3
   },
   "file_extension": ".py",
   "mimetype": "text/x-python",
   "name": "python",
   "nbconvert_exporter": "python",
   "pygments_lexer": "ipython3",
   "version": "3.11.5"
  }
 },
 "nbformat": 4,
 "nbformat_minor": 4
}
